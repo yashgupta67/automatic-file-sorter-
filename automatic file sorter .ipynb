{
 "cells": [
  {
   "cell_type": "code",
   "execution_count": 47,
   "metadata": {},
   "outputs": [],
   "source": [
    "import os, shutil"
   ]
  },
  {
   "cell_type": "code",
   "execution_count": 48,
   "metadata": {},
   "outputs": [],
   "source": [
    "path = r\"/Users/rajeshgupta/Desktop/file sorter collection/\"\n",
    "\n",
    "# we write r so that it can take the file path as a raw text "
   ]
  },
  {
   "cell_type": "code",
   "execution_count": 49,
   "metadata": {},
   "outputs": [
    {
     "data": {
      "text/plain": [
       "['roadmap.png',\n",
       " '.DS_Store',\n",
       " 'pdf files',\n",
       " 'png files',\n",
       " 'xlsx files',\n",
       " '4thSemSyllab.pdf',\n",
       " 'Titanic Dataset copy.xlsx',\n",
       " 'ds.png']"
      ]
     },
     "execution_count": 49,
     "metadata": {},
     "output_type": "execute_result"
    }
   ],
   "source": [
    "os.listdir(path)"
   ]
  },
  {
   "cell_type": "code",
   "execution_count": 50,
   "metadata": {},
   "outputs": [],
   "source": [
    "folder_names=['png files','xlsx files','pdf files']"
   ]
  },
  {
   "cell_type": "code",
   "execution_count": 51,
   "metadata": {
    "scrolled": true
   },
   "outputs": [],
   "source": [
    "for i in range(len(folder_names)):\n",
    "    if not (os.path.exists(path + folder_names[i])):\n",
    "        os.makedirs(path + folder_names[i])\n",
    "    \n",
    "\n",
    "# to see if the path already exists or not "
   ]
  },
  {
   "cell_type": "code",
   "execution_count": 52,
   "metadata": {},
   "outputs": [],
   "source": [
    "file_name = os.listdir(path)"
   ]
  },
  {
   "cell_type": "code",
   "execution_count": 55,
   "metadata": {},
   "outputs": [],
   "source": [
    "for file in file_name:\n",
    "    if(\".png\" in file and not os.path.exists(path + \"png files/\" + file)):\n",
    "       shutil.move(path + file , path + \"png files/\" + file)\n",
    "    elif(\".pdf\" in file and not os.path.exists(path + \"pdf files/\" + file)):\n",
    "       shutil.move(path + file , path + \"pdf files/\" + file)\n",
    "    elif(\".xlsx\" in file and not os.path.exists(path + \"xlsx files/\" + file)):\n",
    "       shutil.move(path + file , path + \"xlsx files/\" + file)\n",
    "       "
   ]
  },
  {
   "cell_type": "code",
   "execution_count": null,
   "metadata": {},
   "outputs": [],
   "source": []
  }
 ],
 "metadata": {
  "kernelspec": {
   "display_name": "Python 3",
   "language": "python",
   "name": "python3"
  },
  "language_info": {
   "codemirror_mode": {
    "name": "ipython",
    "version": 3
   },
   "file_extension": ".py",
   "mimetype": "text/x-python",
   "name": "python",
   "nbconvert_exporter": "python",
   "pygments_lexer": "ipython3",
   "version": "3.7.6"
  }
 },
 "nbformat": 4,
 "nbformat_minor": 4
}
